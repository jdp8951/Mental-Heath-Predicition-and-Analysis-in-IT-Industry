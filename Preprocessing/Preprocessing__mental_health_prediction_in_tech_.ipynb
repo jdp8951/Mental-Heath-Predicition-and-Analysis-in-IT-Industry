{
  "cells": [
    {
      "cell_type": "code",
      "execution_count": 2,
      "metadata": {
        "id": "bYvv6kuQP1pf"
      },
      "outputs": [],
      "source": [
        "import pandas as pd\n",
        "import numpy as np\n",
        "import seaborn as sns\n",
        "import matplotlib.pyplot as plt\n",
        "%matplotlib inline\n",
        "from sklearn.model_selection import train_test_split\n",
        "import warnings\n",
        "warnings.filterwarnings('ignore')\n",
        "#import missingno as msno\n",
        "from sklearn.preprocessing import LabelEncoder\n",
        "import plotly.graph_objects as go\n",
        "import plotly.express as px\n",
        "\n",
        "df=pd.read_csv(r\"/content/drive/MyDrive/OSMI/mental_health_dataset.csv\")\n",
        "df17=pd.read_excel(\"/content/drive/MyDrive/OSMI/Mental-Health-in-Tech/Data/OSMI 2017.xlsx\")\n",
        "df18=pd.read_excel(\"/content/drive/MyDrive/OSMI/Mental-Health-in-Tech/Data/OSMI 2018.xlsx\")\n",
        "df19=pd.read_excel(\"/content/drive/MyDrive/OSMI/Mental-Health-in-Tech/Data/OSMI 2019 .xlsx\")\n",
        "df20=pd.read_excel(\"/content/drive/MyDrive/OSMI/Mental-Health-in-Tech/Data/OSMI 2020.xlsx\")\n",
        "df21=pd.read_excel(\"/content/drive/MyDrive/OSMI/Mental-Health-in-Tech/Data/OSMI 2021.xlsx\")"
      ]
    },
    {
      "cell_type": "code",
      "source": [
        "from google.colab import drive\n",
        "drive.mount('/content/drive')"
      ],
      "metadata": {
        "colab": {
          "base_uri": "https://localhost:8080/"
        },
        "id": "swh_SLQ6Jdif",
        "outputId": "c50f3b05-0105-4b57-c4fc-d14f08e08b96"
      },
      "execution_count": 1,
      "outputs": [
        {
          "output_type": "stream",
          "name": "stdout",
          "text": [
            "Mounted at /content/drive\n"
          ]
        }
      ]
    },
    {
      "cell_type": "code",
      "execution_count": 3,
      "metadata": {
        "id": "-M0Pb7mQil8K"
      },
      "outputs": [],
      "source": [
        "from sklearn.preprocessing import StandardScaler\n",
        "from sklearn import metrics"
      ]
    },
    {
      "cell_type": "markdown",
      "metadata": {
        "id": "O7Tk6Fa7SgOV"
      },
      "source": [
        "Indepedent variables that can be used: Age, gender, family history and benefits offered by employer\n"
      ]
    },
    {
      "cell_type": "code",
      "execution_count": 4,
      "metadata": {
        "colab": {
          "base_uri": "https://localhost:8080/"
        },
        "id": "7nx7wVvxQnH6",
        "outputId": "3d9ba7d1-7197-4cc7-dfc4-74a35870b8c8"
      },
      "outputs": [
        {
          "output_type": "stream",
          "name": "stdout",
          "text": [
            "Are you self-employed?\n",
            "How many employees does your company or organization have?\n",
            "Is your employer primarily a tech company/organization?\n",
            "Is your primary role within your company related to tech/IT?\n",
            "Does your employer provide mental health benefits as part of healthcare coverage?\n",
            "Do you know the options for mental health care available under your employer-provided coverage?\n",
            "Has your employer ever formally discussed mental health (for example, as part of a wellness campaign or other official communication)?\n",
            "Does your employer offer resources to learn more about mental health concerns and options for seeking help?\n",
            "Is your anonymity protected if you choose to take advantage of mental health or substance abuse treatment resources provided by your employer?\n",
            "If a mental health issue prompted you to request a medical leave from work, asking for that leave would be:\n",
            "Do you think that discussing a mental health disorder with your employer would have negative consequences?\n",
            "Do you think that discussing a physical health issue with your employer would have negative consequences?\n",
            "Would you feel comfortable discussing a mental health disorder with your coworkers?\n",
            "Would you feel comfortable discussing a mental health disorder with your direct supervisor(s)?\n",
            "Do you feel that your employer takes mental health as seriously as physical health?\n",
            "Have you heard of or observed negative consequences for co-workers who have been open about mental health issues in your workplace?\n",
            "Do you have medical coverage (private insurance or state-provided) which includes treatment of  mental health issues?\n",
            "Do you know local or online resources to seek help for a mental health disorder?\n",
            "If you have been diagnosed or treated for a mental health disorder, do you ever reveal this to clients or business contacts?\n",
            "If you have revealed a mental health issue to a client or business contact, do you believe this has impacted you negatively?\n",
            "If you have been diagnosed or treated for a mental health disorder, do you ever reveal this to coworkers or employees?\n",
            "If you have revealed a mental health issue to a coworker or employee, do you believe this has impacted you negatively?\n",
            "Do you believe your productivity is ever affected by a mental health issue?\n",
            "If yes, what percentage of your work time (time performing primary or secondary job functions) is affected by a mental health issue?\n",
            "Do you have previous employers?\n",
            "Have your previous employers provided mental health benefits?\n",
            "Were you aware of the options for mental health care provided by your previous employers?\n",
            "Did your previous employers ever formally discuss mental health (as part of a wellness campaign or other official communication)?\n",
            "Did your previous employers provide resources to learn more about mental health issues and how to seek help?\n",
            "Was your anonymity protected if you chose to take advantage of mental health or substance abuse treatment resources with previous employers?\n",
            "Do you think that discussing a mental health disorder with previous employers would have negative consequences?\n",
            "Do you think that discussing a physical health issue with previous employers would have negative consequences?\n",
            "Would you have been willing to discuss a mental health issue with your previous co-workers?\n",
            "Would you have been willing to discuss a mental health issue with your direct supervisor(s)?\n",
            "Did you feel that your previous employers took mental health as seriously as physical health?\n",
            "Did you hear of or observe negative consequences for co-workers with mental health issues in your previous workplaces?\n",
            "Would you be willing to bring up a physical health issue with a potential employer in an interview?\n",
            "Why or why not?\n",
            "Would you bring up a mental health issue with a potential employer in an interview?\n",
            "Why or why not?.1\n",
            "Do you feel that being identified as a person with a mental health issue would hurt your career?\n",
            "Do you think that team members/co-workers would view you more negatively if they knew you suffered from a mental health issue?\n",
            "How willing would you be to share with friends and family that you have a mental illness?\n",
            "Have you observed or experienced an unsupportive or badly handled response to a mental health issue in your current or previous workplace?\n",
            "Have your observations of how another individual who discussed a mental health disorder made you less likely to reveal a mental health issue yourself in your current workplace?\n",
            "Do you have a family history of mental illness?\n",
            "Have you had a mental health disorder in the past?\n",
            "Do you currently have a mental health disorder?\n",
            "If yes, what condition(s) have you been diagnosed with?\n",
            "If maybe, what condition(s) do you believe you have?\n",
            "Have you been diagnosed with a mental health condition by a medical professional?\n",
            "If so, what condition(s) were you diagnosed with?\n",
            "Have you ever sought treatment for a mental health issue from a mental health professional?\n",
            "If you have a mental health issue, do you feel that it interferes with your work when being treated effectively?\n",
            "If you have a mental health issue, do you feel that it interferes with your work when NOT being treated effectively?\n",
            "What is your age?\n",
            "What is your gender?\n",
            "What country do you live in?\n",
            "What US state or territory do you live in?\n",
            "What country do you work in?\n",
            "What US state or territory do you work in?\n",
            "Which of the following best describes your work position?\n",
            "Do you work remotely?\n"
          ]
        }
      ],
      "source": [
        "df=pd.read_csv(\"/content/drive/MyDrive/OSMI/mental_health_dataset.csv\")\n",
        "for col in df.columns:\n",
        "    print(col)"
      ]
    },
    {
      "cell_type": "code",
      "execution_count": 5,
      "metadata": {
        "id": "jLQnbjwsRNgf"
      },
      "outputs": [],
      "source": [
        "renamed_columns=[\"Self_employed\",\"Total_employees\",\"Tech_organization\",\"IT_Tech\",\"Mental_health_coverage\",\"Awareness_of_options_under_coverage\",\"Employers_discussion_on_mental_health\",\"Resources_and_options_for_help\",\"Anomity_of_employees_using_mental_health_resources\",\"Mental_issue_related_leave\",\"Discussing_mental_health_neg_consequences\",\"Discussing_physical_health_neg_consequences\",\"Comfort_discussing_with_coworkers\",\"Comfort_discussing_with_supervisor\",\"Employer_seriousness_on_mental_health\",\"Negative_consequences_of_coworkers_with_mental_health_disorder\",\"Medical_coverage\",\"Aware_of_local_online_resources\",\"Reveal_condition_to_clients_business_contacts\",\"Consequence_if_revealed_health_issue_to_client_or_business_contact\",'Diagnosed_but_not_revealed_with_coworkers_employees','negimpact_reveal_coworker','prod_affect_mental_issue','percent_worktime_affected','have_prev_empl','prev_empl_mental_benefits','aware_benefits_prev_empl','formal_discuss_mental_health_premp','premp_provide_resources_learn_seekhelp','anonymity_protect_premp_choose_resources','neg_eff_discuss_mental_health_premp','neg_eff_discuss_phy_health_premp','willing_discuss_issue_prev_coworkers','willing_discuss_issue_dir_supervisors','premp_took_menhealth_seriously_as_phyhealth','neg_comments_abt_coworkers_with_menissues_prev_workplace','bring_phyhealth_issue_with_potential_empl_interview','phy_y_ynot','bring_menhealth_issue_with_potential_empl_interview','men_y_ynot','hurt_carrer_if_identified_as_person_with_mental_issue','more_neg_view_from_coworker_if_know_abt_men_issue','share_w_friends_fam','workplace_response','other_exp_in_workplace','fam_hist','past_mh','curr_mh','diagnosed','maybe_diagnosed','diagnosed_prof','diagnosed_prof_mh','treatment_mh_prof','work_interference_treatment','work_interference_no_treatment','age','gender','country_live','us_state_live','country_work','us_state_work','work_pos','remote']\n",
        "df.columns=renamed_columns"
      ]
    },
    {
      "cell_type": "code",
      "execution_count": 6,
      "metadata": {
        "colab": {
          "base_uri": "https://localhost:8080/"
        },
        "id": "9lnYMHdMRSpe",
        "outputId": "ab0c1ace-474e-4ef4-9985-6fd560f7bda5"
      },
      "outputs": [
        {
          "output_type": "stream",
          "name": "stdout",
          "text": [
            "['IT_Tech', 'Medical_coverage', 'Aware_of_local_online_resources', 'Reveal_condition_to_clients_business_contacts', 'Consequence_if_revealed_health_issue_to_client_or_business_contact', 'Diagnosed_but_not_revealed_with_coworkers_employees', 'negimpact_reveal_coworker', 'prod_affect_mental_issue', 'percent_worktime_affected', 'other_exp_in_workplace', 'diagnosed', 'maybe_diagnosed', 'diagnosed_prof_mh']\n"
          ]
        }
      ],
      "source": [
        "\n",
        "to_drop_columns=[i for i in df.columns if df[i].isna().sum()>df.shape[0]/2]\n",
        "print(to_drop_columns)\n",
        "df.drop(to_drop_columns,axis=1,inplace=True)"
      ]
    },
    {
      "cell_type": "code",
      "execution_count": 7,
      "metadata": {
        "id": "VxAl5wyqRVFW"
      },
      "outputs": [],
      "source": [
        "#gender has 70 different classes. Encoding them to fewer classes for ease of calculation:\n",
        "#male:1, female:2, anything else:3\n",
        "df['gender'].replace(to_replace = ['Male', 'male', 'Male ', 'M', 'm',\n",
        "       'man', 'Cis male', 'Male.', 'male 9:1 female, roughly', 'Male (cis)', 'Man', 'Sex is male',\n",
        "       'cis male', 'Malr', 'Dude', \"I'm a man why didn't you make this a drop down question. You should of asked sex? And I would of answered yes please. Seriously how much text can this take? \",\n",
        "       'mail', 'M|', 'Male/genderqueer', 'male ',\n",
        "       'Cis Male', 'Male (trans, FtM)',\n",
        "       'cisdude', 'cis man', 'MALE'], value = 1, inplace = True)\n",
        "\n",
        "df['gender'].replace(to_replace = ['Female', 'female', 'I identify as female.', 'female ',\n",
        "       'Female assigned at birth ', 'F', 'Woman', 'fm', 'f', 'Cis female ', 'Transitioned, M2F',\n",
        "       'Genderfluid (born female)', 'Female or Multi-Gender Femme', 'Female ', 'woman', 'female/woman','Cisgender Female', 'fem', 'Female (props for making this a freeform field, though)',\n",
        "       ' Female', 'Cis-woman', 'female-bodied; no feelings about gender',\n",
        "       'AFAB'], value = 2, inplace = True)\n",
        "\n",
        "df['gender'].replace(to_replace = ['Bigender', 'non-binary', 'Other/Transfeminine',\n",
        "       'Androgynous', 'Other', 'nb masculine',\n",
        "       'none of your business', 'genderqueer', 'Human', 'Genderfluid',\n",
        "       'Enby', 'genderqueer woman', 'mtf', 'Queer', 'Agender', 'Fluid',\n",
        "       'Nonbinary', 'human', 'Unicorn', 'Genderqueer',\n",
        "       'Genderflux demi-girl', 'Transgender woman','NaN'], value = 3, inplace = True)\n",
        "#Change all non-responses to 3\n",
        "df['gender'].replace(to_replace=[np.NaN], value=3,inplace=True)"
      ]
    },
    {
      "cell_type": "code",
      "execution_count": 8,
      "metadata": {
        "id": "oaHhT5U-RXrG"
      },
      "outputs": [],
      "source": [
        "#columns 'phy_y_ynot' and 'men_y_ynot' mainly contain comments which aren't of much use for our problem definition\n",
        "# hence, we drop the columns 'phy_y_ynot' and 'men_y_ynot'\n",
        "df.drop(labels ='phy_y_ynot', axis = 1, inplace = True)\n",
        "df.drop(labels ='men_y_ynot', axis = 1, inplace = True)\n",
        "\n",
        "# dealing with missing values in 'prev_empl_mental_benefits'\n",
        "# from previous operation, we see that, whenever the value for have_prev_empl = 0, then the value for 'prev_empl_mental_benefits' = Nan\n",
        "# hence replacing the nans with \"Not Applicable\"\n",
        "df['prev_empl_mental_benefits'].fillna('Not Applicable',inplace= True)\n",
        "df['prev_empl_mental_benefits'].unique()\n",
        "\n",
        "# the same observation was found for the missing values in columns from formal_discuss_mental_health_premp' to'neg_comments_abt_coworkers_with_menissues_prev_workplace'\n",
        "# replacing missing values\n",
        "# whenever the value for have_prev_empl = 0, then the value in the other col= Nan\n",
        "# hence replacing the nans with \"Not Applicable\"\n",
        "df['aware_benefits_prev_empl'].fillna('Not Applicable',inplace= True)\n",
        "df['formal_discuss_mental_health_premp'].fillna('Not Applicable',inplace= True)\n",
        "df['premp_provide_resources_learn_seekhelp'].fillna('Not Applicable',inplace= True)\n",
        "df['anonymity_protect_premp_choose_resources'].fillna('Not Applicable',inplace= True)\n",
        "df['neg_eff_discuss_mental_health_premp'].fillna('Not Applicable',inplace= True)\n",
        "df['neg_eff_discuss_phy_health_premp'].fillna('Not Applicable',inplace= True)\n",
        "df['willing_discuss_issue_dir_supervisors'].fillna('Not Applicable',inplace= True)\n",
        "df['willing_discuss_issue_prev_coworkers'].fillna('Not Applicable',inplace= True)\n",
        "df['premp_took_menhealth_seriously_as_phyhealth'].fillna('Not Applicable',inplace= True)\n",
        "df['neg_comments_abt_coworkers_with_menissues_prev_workplace'].fillna('Not Applicable',inplace= True)\n",
        "\n",
        "#Acronyms of countries with long names (United states of america)\n",
        "df['country_live'].replace(to_replace = ['United States of America'], value = 'USA', inplace = True)\n",
        "df['country_live'].replace(to_replace = ['United Kingdom'], value = 'UK', inplace = True)\n",
        "df['country_work'].replace(to_replace = ['United States of America'], value = 'USA', inplace = True)\n",
        "df['country_work'].replace(to_replace = ['United Kingdom'], value = 'UK', inplace = True)\n",
        "\n",
        "#Removing age outliers (323,3,etc). Replace such ages with the mean of all ages\n",
        "mean_age = df[(df['age'] >= 18) | (df['age'] <= 80)]['age'].mean()\n",
        "df['age'].replace(to_replace = df[(df['age'] < 18) | (df['age'] > 75)]['age'].tolist(),\n",
        "                          value = mean_age, inplace = True)\n",
        "#df=df.dropna()"
      ]
    },
    {
      "cell_type": "code",
      "execution_count": 9,
      "metadata": {
        "colab": {
          "base_uri": "https://localhost:8080/"
        },
        "id": "PocyF1DsRb-W",
        "outputId": "e10ea7d0-b44e-4028-969a-90e60774798a"
      },
      "outputs": [
        {
          "output_type": "execute_result",
          "data": {
            "text/plain": [
              "32490"
            ]
          },
          "metadata": {},
          "execution_count": 9
        }
      ],
      "source": [
        "df.isnull().sum().sum()"
      ]
    },
    {
      "cell_type": "code",
      "execution_count": 10,
      "metadata": {
        "colab": {
          "base_uri": "https://localhost:8080/"
        },
        "id": "n2W4ipWbcN7o",
        "outputId": "423d0fa9-b1c6-4528-f37c-521404f5e40b"
      },
      "outputs": [
        {
          "output_type": "stream",
          "name": "stdout",
          "text": [
            "Total_employees\n",
            "Tech_organization\n",
            "Mental_health_coverage\n",
            "Awareness_of_options_under_coverage\n",
            "Employers_discussion_on_mental_health\n",
            "Resources_and_options_for_help\n",
            "Anomity_of_employees_using_mental_health_resources\n",
            "Mental_issue_related_leave\n",
            "Discussing_mental_health_neg_consequences\n",
            "Discussing_physical_health_neg_consequences\n",
            "Comfort_discussing_with_coworkers\n",
            "Comfort_discussing_with_supervisor\n",
            "Employer_seriousness_on_mental_health\n",
            "Negative_consequences_of_coworkers_with_mental_health_disorder\n",
            "workplace_response\n",
            "us_state_live\n",
            "us_state_work\n"
          ]
        }
      ],
      "source": [
        "\n",
        "#Remaining columns with null values\n",
        "for i in df.columns:\n",
        "    if(df[i].isnull().values.any()):\n",
        "        print(i)"
      ]
    },
    {
      "cell_type": "code",
      "source": [
        "# Replace missing values in 'Total_employees' with '1-5'\n",
        "df['Total_employees'] = df['Total_employees'].replace(to_replace=np.nan, value='1-5')\n",
        "\n",
        "# Replace missing values in 'Tech_organization' with mode (mode returns a series, so we access the first value)\n",
        "df['Tech_organization'] = df['Tech_organization'].fillna(df['Tech_organization'].mode()[0])\n",
        "\n",
        "# Grouping by 'Self_employed' and filling missing values in each column with mode of the respective group\n",
        "for column in df.columns:\n",
        "    if column != 'Self_employed':\n",
        "        # Use transform to ensure the result has the same index as the original DataFrame\n",
        "        df[column] = df.groupby('Self_employed')[column].transform(lambda x: x.fillna(x.mode()[0] if not x.mode().empty else np.nan))\n",
        "\n"
      ],
      "metadata": {
        "id": "Fp8sn0vfLUqB"
      },
      "execution_count": 11,
      "outputs": []
    },
    {
      "cell_type": "code",
      "execution_count": 12,
      "metadata": {
        "id": "9zL1l0cCLxWj"
      },
      "outputs": [],
      "source": [
        "df_no_drp = df"
      ]
    },
    {
      "cell_type": "code",
      "execution_count": 13,
      "metadata": {
        "id": "9hFJakBIcdub"
      },
      "outputs": [],
      "source": [
        "#Dropping remainig rows which still contained missing values\n",
        "df=df.dropna()"
      ]
    },
    {
      "cell_type": "code",
      "execution_count": 14,
      "metadata": {
        "colab": {
          "base_uri": "https://localhost:8080/"
        },
        "id": "1uo9XiPqcdxv",
        "outputId": "fa830542-2d9b-40b5-bc41-46ae972023a7"
      },
      "outputs": [
        {
          "output_type": "execute_result",
          "data": {
            "text/plain": [
              "0"
            ]
          },
          "metadata": {},
          "execution_count": 14
        }
      ],
      "source": [
        "df.isnull().sum().sum()"
      ]
    },
    {
      "cell_type": "markdown",
      "source": [
        "Encoding"
      ],
      "metadata": {
        "id": "U7hK5kIlJPG6"
      }
    },
    {
      "cell_type": "code",
      "source": [
        "import pandas as pd\n",
        "import numpy as np\n",
        "\n",
        "# Load the dataset (replace with the correct path if needed)\n",
        "# df = pd.read_csv('/content/drive/MyDrive/OSMI/expanded_mental_health_10k.csv')\n",
        "\n",
        "# Manually encode specific columns as per the provided mapping\n",
        "No_of_pos = []\n",
        "for i in df['work_pos']:\n",
        "    No_of_pos.append(i.count('|') + 1)\n",
        "df['No_of_pos'] = No_of_pos\n",
        "df.drop(labels='work_pos', axis=1, inplace=True)\n",
        "\n",
        "encode = {\n",
        "    'Total_employees': [['26-100', '6-25', '0', 'More than 1000', '100-500', '500-1000', '1-5'], [3, 2, 0, 6, 4, 5, 1]],\n",
        "    'Mental_health_coverage': [['Not eligible for coverage / N/A', 'No', 'Yes', \"I don't know\"], [0, 2, 3, 1]],\n",
        "    'Awareness_of_options_under_coverage': [['Yes', 'No', 'I am not sure'], [2, 1, 0]],\n",
        "    'Employers_discussion_on_mental_health': [['Yes', 'No', \"I don't know\"], [2, 1, 0]],\n",
        "    'Resources_and_options_for_help': [['Yes', 'No', \"I don't know\"], [2, 1, 0]],\n",
        "    'Anomity_of_employees_using_mental_health_resources': [['Yes', 'No', \"I don't know\"], [2, 1, 0]],\n",
        "    'Mental_issue_related_leave': [['Somewhat easy', 'Neither easy nor difficult', 'Very easy', 'Very difficult', 'Somewhat difficult', \"I don't know\"], [4, 2, 5, 0, 1, 3]],\n",
        "    'Discussing_mental_health_neg_consequences': [['No', 'Yes', 'Maybe'], [2, 0, 1]],\n",
        "    'Discussing_physical_health_neg_consequences': [['No', 'Maybe', 'Yes'], [2, 1, 0]],\n",
        "    'Comfort_discussing_with_coworkers': [['Maybe', 'Yes', 'No'], [1, 2, 0]],\n",
        "    'Comfort_discussing_with_supervisor': [['Yes', 'No', 'Maybe'], [2, 0, 1]],\n",
        "    'Employer_seriousness_on_mental_health': [['Yes', 'No', \"I don't know\"], [2, 0, 1]],\n",
        "    'Negative_consequences_of_coworkers_with_mental_health_disorder': [['No', 'Yes'], [1, 0]],\n",
        "    'prev_empl_mental_benefits': [['Yes, they all did', \"I don't know\", 'Some did', 'No, none did', 'Not Applicable'], [4, 2, 3, 0, 1]],\n",
        "    'aware_benefits_prev_empl': [['I was aware of some', 'N/A (not currently aware)', 'Yes, I was aware of all of them', 'No, I only became aware later', 'Not Applicable'], [3, 2, 4, 0, 1]],\n",
        "    'formal_discuss_mental_health_premp': [['None did', 'Some did', 'Not Applicable', \"I don't know\", 'Yes, they all did'], [0, 3, 1, 2, 4]],\n",
        "    'premp_provide_resources_learn_seekhelp': [['Some did', 'None did', 'Not Applicable', 'Yes, they all did'], [2, 0, 1, 3]],\n",
        "    'anonymity_protect_premp_choose_resources': [['Yes, always', \"I don't know\", 'Sometimes', 'No', 'Not Applicable'], [4, 2, 3, 0, 1]],\n",
        "    'neg_eff_discuss_mental_health_premp': [['None of them', 'Some of them', 'Yes, all of them', \"I don't know\", 'Not Applicable'], [4, 1, 0, 2, 3]],\n",
        "    'neg_eff_discuss_phy_health_premp': [['None of them', 'Some of them', 'Yes, all of them', 'Not Applicable'], [3, 1, 0, 2]],\n",
        "    'willing_discuss_issue_prev_coworkers': [['No, at none of my previous employers', 'Some of my previous employers', 'Yes, at all of my previous employers', 'Not Applicable'], [0, 1, 3, 2]],\n",
        "    'willing_discuss_issue_dir_supervisors': [['Some of my previous employers', 'Yes, at all of my previous employers', 'No, at none of my previous employers', \"I don't know\", 'Not Applicable'], [3, 4, 0, 1, 2]],\n",
        "    'premp_took_menhealth_seriously_as_phyhealth': [[\"I don't know\", 'Some did', 'None did', 'Yes, they all did', 'Not Applicable'], [0, 2, 1, 3, 0]],\n",
        "    'neg_comments_abt_coworkers_with_menissues_prev_workplace': [['None of them', 'Some of them', 'Not Applicable', 'Yes, all of them'], [1, 2, 0, 3]],\n",
        "    'bring_phyhealth_issue_with_potential_empl_interview': [['Maybe', 'Yes', 'No'], [1, 2, 0]],\n",
        "    'bring_menhealth_issue_with_potential_empl_interview': [['Maybe', 'No', 'Yes'], [1, 0, 2]],\n",
        "    'hurt_carrer_if_identified_as_person_with_mental_issue': [['Maybe', \"No, I don't think it would\", 'Yes, I think it would', 'No, it has not', 'Yes, it has'], [1, 0, 2, 0, 2]],\n",
        "    'more_neg_view_from_coworker_if_know_abt_men_issue': [[\"No, I don't think they would\", 'Maybe', 'Yes, they do', 'Yes, I think they would', 'No, they do not'], [0, 1, 2, 2, 0]],\n",
        "    'share_w_friends_fam': [['Somewhat open', 'Neutral', 'Not applicable to me (I do not have a mental illness)', 'Very open', 'Not open at all', 'Somewhat not open'], [4, 3, 0, 5, 1, 2]],\n",
        "    'workplace_response': [['No', 'Maybe/Not sure', 'Yes, I experienced', 'Yes, I observed', np.nan], [0, 1, 2, 2, 1]],\n",
        "    'fam_hist': [['No', 'Yes', \"I don't know\"], [0, 2, 1]],\n",
        "    'past_mh': [['Yes', 'Maybe', 'No'], [2, 1, 0]],\n",
        "    'curr_mh': [['No', 'Yes', 'Maybe'], [0, 2, 1]],\n",
        "    'diagnosed_prof': [['Yes', 'No'], [1, 0]],\n",
        "    'work_interference_treatment': [['Not applicable to me', 'Rarely', 'Sometimes', 'Never', 'Often'], [0, 2, 3, 1, 4]],\n",
        "    'work_interference_no_treatment': [['Not applicable to me', 'Sometimes', 'Often', 'Rarely', 'Never'], [0, 3, 4, 2, 1]],\n",
        "    'remote': [['Sometimes', 'Never', 'Always'], [1, 0, 2]]\n",
        "}\n",
        "\n",
        "# Apply the manual encoding\n",
        "for col, mapping in encode.items():\n",
        "    df[col] = df[col].replace(to_replace=mapping[0], value=mapping[1])\n",
        "\n",
        "# Dividing states of the USA into 4 divisions\n",
        "north_east = ['Pennsylvania', 'New York', 'Rhode Island', 'Maine', 'New Jersey', 'New Hampshire', 'Massachusetts', 'Vermont', 'Connecticut']\n",
        "south = ['Delaware', 'District of Columbia', 'Texas', 'Louisiana', 'Oklahoma', 'Alabama', 'Kentucky', 'Virginia', 'South Carolina', 'Maryland', 'West Virginia', 'North Carolina', 'Georgia', 'Florida', 'Tennessee']\n",
        "mid_west = ['Illinois', 'Indiana', 'Minnesota', 'Iowa', 'Ohio', 'Michigan', 'Wisconsin', 'Missouri', 'Nebraska', 'North Dakota', 'South Dakota', 'Kansas']\n",
        "west = ['California', 'Montana', 'Oregon', 'New Mexico', 'Alaska', 'Washington', 'Nevada', 'Arizona', 'Utah', 'Colorado', 'Hawaii', 'Idaho']\n",
        "\n",
        "# Encoding columns for us_state_live and us_state_work\n",
        "# north_east=1, mid_west=2, west=3, south=4\n",
        "df['us_state_live'].replace(to_replace=north_east, value=1, inplace=True)\n",
        "df['us_state_live'].replace(to_replace=mid_west, value=2, inplace=True)\n",
        "df['us_state_live'].replace(to_replace=west, value=3, inplace=True)\n",
        "df['us_state_live'].replace(to_replace=south, value=4, inplace=True)\n",
        "\n",
        "df['us_state_work'].replace(to_replace=north_east, value=1, inplace=True)\n",
        "df['us_state_work'].replace(to_replace=mid_west, value=2, inplace=True)\n",
        "df['us_state_work'].replace(to_replace=west, value=3, inplace=True)\n",
        "df['us_state_work'].replace(to_replace=south, value=4, inplace=True)\n",
        "\n",
        "# Encoding for country_live and country_work manually (USA = 0, UK = 1)\n",
        "df['country_live'] = df['country_live'].replace({'USA': 0, 'UK': 1})\n",
        "df['country_work'] = df['country_work'].replace({'USA': 0, 'UK': 1})\n",
        "\n",
        "# Automatic encoding of remaining string values\n",
        "# This function will handle any remaining string values and map them to unique integers\n",
        "def encode_remaining_strings(df, columns):\n",
        "    for col in columns:\n",
        "        if df[col].dtype == 'object':\n",
        "            df[col] = df[col].astype('category').cat.codes\n",
        "    return df\n",
        "\n",
        "# Identify columns that still have string values\n",
        "string_columns = df.select_dtypes(include=['object']).columns\n",
        "\n",
        "# Apply the automatic encoding to remaining string columns\n",
        "df = encode_remaining_strings(df, string_columns)\n",
        "\n",
        "# Saving the encoded DataFrame to a new CSV file\n",
        "df.to_csv('prepro_clean_mental_health_encoded_complete.csv', index=False)\n",
        "\n",
        "print(\"Encoding completed and file saved as 'prepro_clean_mental_health_encoded_complete.csv'.\")\n"
      ],
      "metadata": {
        "colab": {
          "base_uri": "https://localhost:8080/"
        },
        "id": "dK5ZfV31E9gc",
        "outputId": "f10698dc-b165-4c11-f3ba-aa9cfa9b193b"
      },
      "execution_count": 15,
      "outputs": [
        {
          "output_type": "stream",
          "name": "stdout",
          "text": [
            "Encoding completed and file saved as 'prepro_clean_mental_health_encoded_complete.csv'.\n"
          ]
        }
      ]
    },
    {
      "cell_type": "code",
      "execution_count": 16,
      "metadata": {
        "colab": {
          "base_uri": "https://localhost:8080/"
        },
        "id": "-XhQTky9dCBE",
        "outputId": "af36bfe8-c0b8-49a3-c4b3-81ee3e10d83f"
      },
      "outputs": [
        {
          "output_type": "stream",
          "name": "stdout",
          "text": [
            "Self_employed  :  [0]\n",
            "Total_employees  :  [3 2 6 4 5 1]\n",
            "Tech_organization  :  [1. 0.]\n",
            "Mental_health_coverage  :  [0 2 3 1]\n",
            "Awareness_of_options_under_coverage  :  [1 2 0]\n",
            "Employers_discussion_on_mental_health  :  [1 2 0]\n",
            "Resources_and_options_for_help  :  [1 2 0]\n",
            "Anomity_of_employees_using_mental_health_resources  :  [0 2 1]\n",
            "Mental_issue_related_leave  :  [5 4 2 0 1 3]\n",
            "Discussing_mental_health_neg_consequences  :  [2 1 0]\n",
            "Discussing_physical_health_neg_consequences  :  [2 1 0]\n",
            "Comfort_discussing_with_coworkers  :  [1 2 0]\n",
            "Comfort_discussing_with_supervisor  :  [2 1 0]\n",
            "Employer_seriousness_on_mental_health  :  [1 2 0]\n",
            "Negative_consequences_of_coworkers_with_mental_health_disorder  :  [1 0]\n",
            "have_prev_empl  :  [1 0]\n",
            "prev_empl_mental_benefits  :  [0 4 2 3 1]\n",
            "aware_benefits_prev_empl  :  [2 3 4 0 1]\n",
            "formal_discuss_mental_health_premp  :  [2 0 3 1 4]\n",
            "premp_provide_resources_learn_seekhelp  :  [0 2 1 3]\n",
            "anonymity_protect_premp_choose_resources  :  [2 4 3 0 1]\n",
            "neg_eff_discuss_mental_health_premp  :  [1 4 2 0 3]\n",
            "neg_eff_discuss_phy_health_premp  :  [3 1 0 2]\n",
            "willing_discuss_issue_prev_coworkers  :  [1 0 3 2]\n",
            "willing_discuss_issue_dir_supervisors  :  [3 1 0 4 2]\n",
            "premp_took_menhealth_seriously_as_phyhealth  :  [0 2 1 3]\n",
            "neg_comments_abt_coworkers_with_menissues_prev_workplace  :  [1 2 0 3]\n",
            "bring_phyhealth_issue_with_potential_empl_interview  :  [1 2 0]\n",
            "bring_menhealth_issue_with_potential_empl_interview  :  [1 0 2]\n",
            "hurt_carrer_if_identified_as_person_with_mental_issue  :  [1 0 2]\n",
            "more_neg_view_from_coworker_if_know_abt_men_issue  :  [0 1 2]\n",
            "share_w_friends_fam  :  [4 0 5 1 3 2]\n",
            "workplace_response  :  [0 1 2]\n",
            "fam_hist  :  [0 2 1]\n",
            "past_mh  :  [2 1 0]\n",
            "curr_mh  :  [0 2 1]\n",
            "diagnosed_prof  :  [1 0]\n",
            "treatment_mh_prof  :  [0 1]\n",
            "work_interference_treatment  :  [0 2 3 1 4]\n",
            "work_interference_no_treatment  :  [0 3 4 2 1]\n",
            "age  :  [39.07771578 29.01453412 37.85745304 ... 52.00154312 29.96637005\n",
            " 25.04364249]\n",
            "gender  :  [1. 2. 3.]\n",
            "country_live  :  [ 1  0 11 20 29  4 19  7  9 15 40 36 39 22 28 41 31  3 24 26 13 14 42 18\n",
            " 10 38 37  6 33 30  2 35 34 32 23 21 25 27 16  8  5 12 17]\n",
            "us_state_live  :  [3 2 4 1]\n",
            "country_work  :  [ 1  0 11 20 29  4 19  7  9 15 40 36 39 22 42 28 41 31  3 24 26 13 14 43\n",
            " 18 10 38 37  6 33 30  2 34 32 23 21 25 27 16  8  5 35 12 17]\n",
            "us_state_work  :  [3 2 4 1]\n",
            "remote  :  [1 0 2]\n",
            "No_of_pos  :  [ 1  2  7  5  3  4  6 10  9  8]\n",
            "48\n"
          ]
        }
      ],
      "source": [
        "#Unique values in each column\n",
        "for i in df.columns:\n",
        "    print(i,\" : \",df[i].unique())\n",
        "print(len(df.columns))"
      ]
    }
  ],
  "metadata": {
    "colab": {
      "provenance": []
    },
    "kernelspec": {
      "display_name": "Python 3 (ipykernel)",
      "language": "python",
      "name": "python3"
    },
    "language_info": {
      "codemirror_mode": {
        "name": "ipython",
        "version": 3
      },
      "file_extension": ".py",
      "mimetype": "text/x-python",
      "name": "python",
      "nbconvert_exporter": "python",
      "pygments_lexer": "ipython3",
      "version": "3.9.12"
    }
  },
  "nbformat": 4,
  "nbformat_minor": 0
}